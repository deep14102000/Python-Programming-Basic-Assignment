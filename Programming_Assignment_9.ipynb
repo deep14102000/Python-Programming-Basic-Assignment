{
 "cells": [
  {
   "cell_type": "markdown",
   "metadata": {},
   "source": [
    "**1. Write a Python program to check if the given number is a Disarium Number?**"
   ]
  },
  {
   "cell_type": "code",
   "execution_count": 1,
   "metadata": {},
   "outputs": [],
   "source": [
    "def disarium(num):\n",
    "    i=num\n",
    "    k=1\n",
    "    s=0\n",
    "    for j in str(i):\n",
    "        s=s+(int(j)**k)\n",
    "        k+=1\n",
    "    if s==num:\n",
    "        print('Disarium')\n",
    "    else:\n",
    "        print('Not disarium')"
   ]
  },
  {
   "cell_type": "code",
   "execution_count": 2,
   "metadata": {},
   "outputs": [
    {
     "name": "stdout",
     "output_type": "stream",
     "text": [
      "Disarium\n"
     ]
    }
   ],
   "source": [
    "disarium(175)"
   ]
  },
  {
   "cell_type": "markdown",
   "metadata": {},
   "source": [
    "**2. Write a Python program to print all disarium numbers between 1 to 100?**"
   ]
  },
  {
   "cell_type": "code",
   "execution_count": 3,
   "metadata": {},
   "outputs": [],
   "source": [
    "def print_disarium():\n",
    "    for num in range(1,101):\n",
    "        i=num\n",
    "        k=1\n",
    "        s=0\n",
    "        for j in str(i):\n",
    "            s=s+(int(j)**k)\n",
    "            k+=1\n",
    "        if s==num:\n",
    "            print(num)"
   ]
  },
  {
   "cell_type": "code",
   "execution_count": 4,
   "metadata": {},
   "outputs": [
    {
     "name": "stdout",
     "output_type": "stream",
     "text": [
      "1\n",
      "2\n",
      "3\n",
      "4\n",
      "5\n",
      "6\n",
      "7\n",
      "8\n",
      "9\n",
      "89\n"
     ]
    }
   ],
   "source": [
    "print_disarium()"
   ]
  },
  {
   "cell_type": "markdown",
   "metadata": {},
   "source": [
    "**3. Write a Python program to check if the given number is Happy Number?**"
   ]
  },
  {
   "cell_type": "code",
   "execution_count": 52,
   "metadata": {},
   "outputs": [],
   "source": [
    "def sqsum(n):\n",
    "    s=0\n",
    "    for i in str(n):\n",
    "        s=s+(int(i)**2)\n",
    "    return(s)\n",
    "def happy(num):\n",
    "    lst=[]\n",
    "    k=num\n",
    "    b=False\n",
    "    while(k!=1 or b==True):\n",
    "        b=bool(k in lst)\n",
    "        lst.append(k)\n",
    "        k=sqsum(k)\n",
    "        if k==20:\n",
    "            break\n",
    "    if(k==1):\n",
    "        return 'Happy number'\n",
    "    else:\n",
    "        return 'Not a happy number'"
   ]
  },
  {
   "cell_type": "code",
   "execution_count": 53,
   "metadata": {},
   "outputs": [
    {
     "data": {
      "text/plain": [
       "'Happy number'"
      ]
     },
     "execution_count": 53,
     "metadata": {},
     "output_type": "execute_result"
    }
   ],
   "source": [
    "happy(19)"
   ]
  },
  {
   "cell_type": "code",
   "execution_count": 54,
   "metadata": {},
   "outputs": [
    {
     "data": {
      "text/plain": [
       "'Not a happy number'"
      ]
     },
     "execution_count": 54,
     "metadata": {},
     "output_type": "execute_result"
    }
   ],
   "source": [
    "happy(21)"
   ]
  },
  {
   "cell_type": "markdown",
   "metadata": {},
   "source": [
    "**4. Write a Python program to print all happy numbers between 1 and 100?**"
   ]
  },
  {
   "cell_type": "code",
   "execution_count": 55,
   "metadata": {},
   "outputs": [],
   "source": [
    "def print_happy():\n",
    "    for i in range(1,101):\n",
    "        if happy(i)=='Happy number':\n",
    "            print(i)"
   ]
  },
  {
   "cell_type": "code",
   "execution_count": 56,
   "metadata": {},
   "outputs": [
    {
     "name": "stdout",
     "output_type": "stream",
     "text": [
      "1\n",
      "7\n",
      "10\n",
      "13\n",
      "19\n",
      "23\n",
      "28\n",
      "31\n",
      "32\n",
      "44\n",
      "49\n",
      "68\n",
      "70\n",
      "79\n",
      "82\n",
      "86\n",
      "91\n",
      "94\n",
      "97\n",
      "100\n"
     ]
    }
   ],
   "source": [
    "print_happy()"
   ]
  },
  {
   "cell_type": "markdown",
   "metadata": {},
   "source": [
    "**5. Write a Python program to determine whether the given number is a Harshad Number?**"
   ]
  },
  {
   "cell_type": "code",
   "execution_count": 57,
   "metadata": {},
   "outputs": [],
   "source": [
    "def harshad(num):\n",
    "    s=0\n",
    "    for i in str(num):\n",
    "        s=s+int(i)\n",
    "    if num%s==0:\n",
    "        return('Harshad Number')\n",
    "    else:\n",
    "        return('Not a Harshad number')"
   ]
  },
  {
   "cell_type": "code",
   "execution_count": 58,
   "metadata": {},
   "outputs": [
    {
     "data": {
      "text/plain": [
       "'Harshad Number'"
      ]
     },
     "execution_count": 58,
     "metadata": {},
     "output_type": "execute_result"
    }
   ],
   "source": [
    "harshad(21)"
   ]
  },
  {
   "cell_type": "markdown",
   "metadata": {},
   "source": [
    "**6. Write a Python program to print all pronic numbers between 1 and 100?**"
   ]
  },
  {
   "cell_type": "code",
   "execution_count": 66,
   "metadata": {},
   "outputs": [],
   "source": [
    "import math\n",
    "def ispronic(num):\n",
    "    root=(math.sqrt((4*num)+1)-1)/2\n",
    "    if root-int(root)==0.0:\n",
    "        return True\n",
    "    else:\n",
    "        return False\n",
    "def print_pronic():\n",
    "    for i in range(1,101):\n",
    "        if ispronic(i)==True:\n",
    "            print(i)"
   ]
  },
  {
   "cell_type": "code",
   "execution_count": 67,
   "metadata": {},
   "outputs": [
    {
     "name": "stdout",
     "output_type": "stream",
     "text": [
      "2\n",
      "6\n",
      "12\n",
      "20\n",
      "30\n",
      "42\n",
      "56\n",
      "72\n",
      "90\n"
     ]
    }
   ],
   "source": [
    "print_pronic()"
   ]
  }
 ],
 "metadata": {
  "kernelspec": {
   "display_name": "Python 3",
   "language": "python",
   "name": "python3"
  },
  "language_info": {
   "codemirror_mode": {
    "name": "ipython",
    "version": 3
   },
   "file_extension": ".py",
   "mimetype": "text/x-python",
   "name": "python",
   "nbconvert_exporter": "python",
   "pygments_lexer": "ipython3",
   "version": "3.8.5"
  }
 },
 "nbformat": 4,
 "nbformat_minor": 4
}
