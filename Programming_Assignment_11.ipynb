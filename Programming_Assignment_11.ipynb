{
 "cells": [
  {
   "cell_type": "markdown",
   "metadata": {},
   "source": [
    "**1. Write a Python program to find words which are greater than given length k?**"
   ]
  },
  {
   "cell_type": "code",
   "execution_count": 3,
   "metadata": {},
   "outputs": [],
   "source": [
    "def fun(str,k):\n",
    "    lst=str.split(' ')\n",
    "    ans=[]\n",
    "    for i in lst:\n",
    "        if len(i)>k:\n",
    "            ans.append(i)\n",
    "    return ans"
   ]
  },
  {
   "cell_type": "code",
   "execution_count": 6,
   "metadata": {},
   "outputs": [
    {
     "data": {
      "text/plain": [
       "['two-dimensional,',\n",
       " 'photograph',\n",
       " 'display,',\n",
       " 'three-dimensional,',\n",
       " 'hologram.',\n",
       " 'captured',\n",
       " 'optical',\n",
       " 'devices',\n",
       " 'cameras,',\n",
       " 'mirrors,',\n",
       " 'lenses,',\n",
       " 'telescopes,',\n",
       " 'microscopes,',\n",
       " 'natural',\n",
       " 'objects',\n",
       " 'phenomena,']"
      ]
     },
     "execution_count": 6,
     "metadata": {},
     "output_type": "execute_result"
    }
   ],
   "source": [
    "sentence='Images may be two-dimensional, such as a photograph or screen display, or three-dimensional, such as a statue or hologram. They may be captured by optical devices – such as cameras, mirrors, lenses, telescopes, microscopes, etc. and natural objects and phenomena, such as the human eye or water.'\n",
    "fun(sentence,6)"
   ]
  },
  {
   "cell_type": "markdown",
   "metadata": {},
   "source": [
    "**2. Write a Python program for removing i-th character from a string?**"
   ]
  },
  {
   "cell_type": "code",
   "execution_count": 7,
   "metadata": {},
   "outputs": [],
   "source": [
    "def remove(str,i):\n",
    "    return str[0:i]+str[i+1:]"
   ]
  },
  {
   "cell_type": "code",
   "execution_count": 8,
   "metadata": {},
   "outputs": [
    {
     "data": {
      "text/plain": [
       "'Percetion'"
      ]
     },
     "execution_count": 8,
     "metadata": {},
     "output_type": "execute_result"
    }
   ],
   "source": [
    "str='Perception'\n",
    "remove(str,5)"
   ]
  },
  {
   "cell_type": "markdown",
   "metadata": {},
   "source": [
    "**3. Write a Python program to split and join a string?**"
   ]
  },
  {
   "cell_type": "code",
   "execution_count": 9,
   "metadata": {},
   "outputs": [
    {
     "name": "stdout",
     "output_type": "stream",
     "text": [
      "['Heads', 'and', 'Tails']\n",
      "Heads-and-Tails\n"
     ]
    }
   ],
   "source": [
    "str='Heads and Tails'\n",
    "splitted_string=str.split(' ')\n",
    "print(splitted_string)\n",
    "joint_string='-'.join(splitted_string)\n",
    "print(joint_string)"
   ]
  },
  {
   "cell_type": "markdown",
   "metadata": {},
   "source": [
    "**4. Write a Python to check if a given string is binary string or not?**"
   ]
  },
  {
   "cell_type": "code",
   "execution_count": 11,
   "metadata": {},
   "outputs": [],
   "source": [
    "def check_binary(str):\n",
    "    c=True\n",
    "    for i in str:\n",
    "        if i!='0' and i !='1':\n",
    "            c=False\n",
    "            break\n",
    "    return c"
   ]
  },
  {
   "cell_type": "code",
   "execution_count": 12,
   "metadata": {},
   "outputs": [
    {
     "name": "stdout",
     "output_type": "stream",
     "text": [
      "Binary string\n"
     ]
    }
   ],
   "source": [
    "str='0110110'\n",
    "if check_binary(str):\n",
    "    print('Binary string')\n",
    "else:\n",
    "    print('Not binary string')"
   ]
  },
  {
   "cell_type": "markdown",
   "metadata": {},
   "source": [
    "**5. Write a Python program to find uncommon words from two Strings?**"
   ]
  },
  {
   "cell_type": "code",
   "execution_count": 21,
   "metadata": {},
   "outputs": [],
   "source": [
    "def uncommon(str1,str2):\n",
    "    lst=[]\n",
    "    if len(str2)>len(str1):\n",
    "        str1,str2=str2,str1\n",
    "    for i in str1.split(' '):\n",
    "        if i not in str2.split(' '):\n",
    "            lst.append(i)\n",
    "    return lst"
   ]
  },
  {
   "cell_type": "code",
   "execution_count": 22,
   "metadata": {},
   "outputs": [
    {
     "data": {
      "text/plain": [
       "['Class', 'of']"
      ]
     },
     "execution_count": 22,
     "metadata": {},
     "output_type": "execute_result"
    }
   ],
   "source": [
    "str1='Full stack'\n",
    "str2='Class of Full stack'\n",
    "uncommon(str1,str2)"
   ]
  },
  {
   "cell_type": "markdown",
   "metadata": {},
   "source": [
    "**6. Write a Python to find all duplicate characters in string?**"
   ]
  },
  {
   "cell_type": "code",
   "execution_count": 27,
   "metadata": {},
   "outputs": [],
   "source": [
    "def duplicate(str):\n",
    "    lst=list(str)\n",
    "    lst1=[]\n",
    "    for i in lst:\n",
    "        if lst.count(i)>1:\n",
    "            if i not in lst1:\n",
    "                lst1.append(i)\n",
    "    return lst1"
   ]
  },
  {
   "cell_type": "code",
   "execution_count": 30,
   "metadata": {},
   "outputs": [
    {
     "data": {
      "text/plain": [
       "['i', 'n']"
      ]
     },
     "execution_count": 30,
     "metadata": {},
     "output_type": "execute_result"
    }
   ],
   "source": [
    "str='invigilation'\n",
    "duplicate(str)"
   ]
  },
  {
   "cell_type": "markdown",
   "metadata": {},
   "source": [
    "**7. Write a Python Program to check if a string contains any special character?**"
   ]
  },
  {
   "cell_type": "code",
   "execution_count": 33,
   "metadata": {},
   "outputs": [],
   "source": [
    "def check(str):\n",
    "    c=False\n",
    "    for i in str:\n",
    "        if int(ord(i)) in range(33,48) or int(ord(i)) in range(58,65) or int(ord(i)) in range(91,97):\n",
    "            c=True\n",
    "            break\n",
    "    if(c==True):\n",
    "        print('Special character present')\n",
    "    else:\n",
    "        print('Special character not present')"
   ]
  },
  {
   "cell_type": "code",
   "execution_count": 34,
   "metadata": {},
   "outputs": [
    {
     "name": "stdout",
     "output_type": "stream",
     "text": [
      "Special character present\n"
     ]
    }
   ],
   "source": [
    "str='bdhij&^%'\n",
    "check(str)"
   ]
  }
 ],
 "metadata": {
  "kernelspec": {
   "display_name": "Python 3",
   "language": "python",
   "name": "python3"
  },
  "language_info": {
   "codemirror_mode": {
    "name": "ipython",
    "version": 3
   },
   "file_extension": ".py",
   "mimetype": "text/x-python",
   "name": "python",
   "nbconvert_exporter": "python",
   "pygments_lexer": "ipython3",
   "version": "3.8.5"
  }
 },
 "nbformat": 4,
 "nbformat_minor": 4
}
